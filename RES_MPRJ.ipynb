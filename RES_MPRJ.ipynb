{
 "cells": [
  {
   "cell_type": "code",
   "execution_count": 97,
   "metadata": {},
   "outputs": [],
   "source": [
    "from selenium import webdriver\n",
    "import pandas as pd\n",
    "import time\n",
    "import pyautogui as pagui\n",
    "from selenium.webdriver.common.keys import Keys\n",
    "from selenium.webdriver.common.by import By\n",
    "import random"
   ]
  },
  {
   "cell_type": "code",
   "execution_count": 20,
   "metadata": {},
   "outputs": [],
   "source": [
    "\n",
    "fp = webdriver.FirefoxProfile('C:/Users/profe_zp1w2/AppData/Roaming/Mozilla/Firefox/Profiles/mmn1fh9q.default-release')"
   ]
  },
  {
   "cell_type": "code",
   "execution_count": 21,
   "metadata": {},
   "outputs": [],
   "source": [
    "\n",
    "navegador = webdriver.Firefox(fp)"
   ]
  },
  {
   "cell_type": "code",
   "execution_count": 22,
   "metadata": {},
   "outputs": [],
   "source": [
    "\n",
    "tempoEntreClicks = 2                                    # Tempo entre cliques para Seguir"
   ]
  },
  {
   "cell_type": "code",
   "execution_count": 23,
   "metadata": {},
   "outputs": [],
   "source": [
    "\n",
    "url = 'http://www.mprj.mp.br/busca?p_p_id=mprjbusca_WAR_mprjbuscaportlet&p_p_lifecycle=0&p_p_state=normal&p_p_mode=view&p_p_col_id=column-1&p_p_col_count=1&_mprjbusca_WAR_mprjbuscaportlet_jspPage=%2Fhtml%2Fview.jsp&_mprjbusca_WAR_mprjbuscaportlet_exibicao_param=card&_mprjbusca_WAR_mprjbuscaportlet_filtro_param=servicos&_mprjbusca_WAR_mprjbuscaportlet_delta=15&_mprjbusca_WAR_mprjbuscaportlet_keywords=&_mprjbusca_WAR_mprjbuscaportlet_advancedSearch=false&_mprjbusca_WAR_mprjbuscaportlet_andOperator=true&_mprjbusca_WAR_mprjbuscaportlet_resetCur=false&_mprjbusca_WAR_mprjbuscaportlet_cur=1'\n",
    "\n",
    "# Carrega a página configurada\n",
    "navegador.get(url)"
   ]
  },
  {
   "cell_type": "code",
   "execution_count": 82,
   "metadata": {},
   "outputs": [
    {
     "name": "stdout",
     "output_type": "stream",
     "text": [
      "4\n",
      "------------------------------\n",
      "\n",
      "\t\t\t\t\t\tÚltimo →\n",
      "\t\t\t\t\t\n"
     ]
    }
   ],
   "source": [
    "btLast = navegador.find_elements_by_xpath(\"//li[@class=' last']/a\")\n",
    "\n",
    "#elements = navegador.find_elements_by_xpath(\"//div[contains(@class, 'foo')]\")\n",
    "\n",
    "# \"Último →\"\n",
    "link = btLast[1].get_attribute(\"href\")\n",
    "    \n",
    "print(link[-1:])\n",
    "print(\"------------------------------\")\n",
    "print(btLast[1].get_attribute(\"text\"))\n",
    "print(\"------------------------------\")\n",
    "\n",
    "#btLast[1].click()   #clica na navegação para ir para a última página.\n"
   ]
  },
  {
   "cell_type": "code",
   "execution_count": 83,
   "metadata": {
    "scrolled": true
   },
   "outputs": [
    {
     "name": "stdout",
     "output_type": "stream",
     "text": [
      "javascript:;\n",
      "------------------------------\n",
      "Página 1 de 4 \n"
     ]
    }
   ],
   "source": [
    "# NAV\n",
    "\n",
    "navLast = navegador.find_elements_by_xpath(\"//div[@class='lfr-pagination-page-selector']/div/a\")\n",
    "\n",
    "print(navLast[1].get_attribute(\"href\"))\n",
    "print(\"------------------------------\")\n",
    "print(navLast[1].get_attribute(\"text\"))"
   ]
  },
  {
   "cell_type": "code",
   "execution_count": 170,
   "metadata": {},
   "outputs": [
    {
     "name": "stdout",
     "output_type": "stream",
     "text": [
      "15\n",
      "\n",
      "Link : http://www.mprj.mp.br/documents/20184/418907/Resolucao_2021.pdf\n",
      "Titulo: RESOLUÇÃO GPGJ nº 2.021 DE 30 DE DEZEMBRO DE 2015\n",
      "Texto: RESOLUÇÃO GPGJ nº 2.021 DE 30 DE DEZEMBRO DE 2015. Cria, no âmbito do Ministério Público do Estado do Rio de Janeiro, o Grupo de Atuação Especializada em Segurança Pública (GAESP). O PROCU...\n",
      "\n",
      "Link : http://www.mprj.mp.br/documents/20184/418733/resolucao_conjunta_cgmp_pgj_44_2021.pdf\n",
      "Titulo: RESOLUÇÃO GPGJ nº 2.021 DE 30 DE DEZEMBRO DE 2015\n",
      "Texto: RESOLUÇÃO GPGJ nº 2.021 DE 30 DE DEZEMBRO DE 2015. Cria, no âmbito do Ministério Público do Estado do Rio de Janeiro, o Grupo de Atuação Especializada em Segurança Pública (GAESP). O PROCU...\n",
      "\n",
      "Link : http://www.mprj.mp.br/documents/20184/1930598/resolucao_2395.pdf\n",
      "Titulo: RESOLUÇÃO GPGJ nº 2.021 DE 30 DE DEZEMBRO DE 2015\n",
      "Texto: RESOLUÇÃO GPGJ nº 2.021 DE 30 DE DEZEMBRO DE 2015. Cria, no âmbito do Ministério Público do Estado do Rio de Janeiro, o Grupo de Atuação Especializada em Segurança Pública (GAESP). O PROCU...\n",
      "\n",
      "Link : http://www.mprj.mp.br/documents/20184/1930598/resolucao_2400.pdf\n",
      "Titulo: RESOLUÇÃO GPGJ nº 2.021 DE 30 DE DEZEMBRO DE 2015\n",
      "Texto: RESOLUÇÃO GPGJ nº 2.021 DE 30 DE DEZEMBRO DE 2015. Cria, no âmbito do Ministério Público do Estado do Rio de Janeiro, o Grupo de Atuação Especializada em Segurança Pública (GAESP). O PROCU...\n",
      "\n",
      "Link : http://www.mprj.mp.br/documents/20184/1930598/resolucao_2394.pdf\n",
      "Titulo: RESOLUÇÃO GPGJ nº 2.021 DE 30 DE DEZEMBRO DE 2015\n",
      "Texto: RESOLUÇÃO GPGJ nº 2.021 DE 30 DE DEZEMBRO DE 2015. Cria, no âmbito do Ministério Público do Estado do Rio de Janeiro, o Grupo de Atuação Especializada em Segurança Pública (GAESP). O PROCU...\n",
      "\n",
      "Link : http://www.mprj.mp.br/documents/20184/1930598/resolucao_2396.pdf\n",
      "Titulo: RESOLUÇÃO GPGJ nº 2.021 DE 30 DE DEZEMBRO DE 2015\n",
      "Texto: RESOLUÇÃO GPGJ nº 2.021 DE 30 DE DEZEMBRO DE 2015. Cria, no âmbito do Ministério Público do Estado do Rio de Janeiro, o Grupo de Atuação Especializada em Segurança Pública (GAESP). O PROCU...\n",
      "\n",
      "Link : http://www.mprj.mp.br/documents/20184/1930598/resolucao_2397.pdf\n",
      "Titulo: RESOLUÇÃO GPGJ nº 2.021 DE 30 DE DEZEMBRO DE 2015\n",
      "Texto: RESOLUÇÃO GPGJ nº 2.021 DE 30 DE DEZEMBRO DE 2015. Cria, no âmbito do Ministério Público do Estado do Rio de Janeiro, o Grupo de Atuação Especializada em Segurança Pública (GAESP). O PROCU...\n",
      "\n",
      "Link : http://www.mprj.mp.br/documents/20184/1930598/resolucao_2413.pdf\n",
      "Titulo: RESOLUÇÃO GPGJ nº 2.021 DE 30 DE DEZEMBRO DE 2015\n",
      "Texto: RESOLUÇÃO GPGJ nº 2.021 DE 30 DE DEZEMBRO DE 2015. Cria, no âmbito do Ministério Público do Estado do Rio de Janeiro, o Grupo de Atuação Especializada em Segurança Pública (GAESP). O PROCU...\n",
      "\n",
      "Link : http://www.mprj.mp.br/documents/20184/1930598/resolucao_2417.pdf\n",
      "Titulo: RESOLUÇÃO GPGJ nº 2.021 DE 30 DE DEZEMBRO DE 2015\n",
      "Texto: RESOLUÇÃO GPGJ nº 2.021 DE 30 DE DEZEMBRO DE 2015. Cria, no âmbito do Ministério Público do Estado do Rio de Janeiro, o Grupo de Atuação Especializada em Segurança Pública (GAESP). O PROCU...\n",
      "\n",
      "Link : http://www.mprj.mp.br/documents/20184/1930598/resolucao_2416.pdf\n",
      "Titulo: RESOLUÇÃO GPGJ nº 2.021 DE 30 DE DEZEMBRO DE 2015\n",
      "Texto: RESOLUÇÃO GPGJ nº 2.021 DE 30 DE DEZEMBRO DE 2015. Cria, no âmbito do Ministério Público do Estado do Rio de Janeiro, o Grupo de Atuação Especializada em Segurança Pública (GAESP). O PROCU...\n",
      "\n",
      "Link : http://www.mprj.mp.br/documents/20184/1930598/resolucao_2387.pdf\n",
      "Titulo: RESOLUÇÃO GPGJ nº 2.021 DE 30 DE DEZEMBRO DE 2015\n",
      "Texto: RESOLUÇÃO GPGJ nº 2.021 DE 30 DE DEZEMBRO DE 2015. Cria, no âmbito do Ministério Público do Estado do Rio de Janeiro, o Grupo de Atuação Especializada em Segurança Pública (GAESP). O PROCU...\n",
      "\n",
      "Link : http://www.mprj.mp.br/documents/20184/1930598/resolucao_2398.pdf\n",
      "Titulo: RESOLUÇÃO GPGJ nº 2.021 DE 30 DE DEZEMBRO DE 2015\n",
      "Texto: RESOLUÇÃO GPGJ nº 2.021 DE 30 DE DEZEMBRO DE 2015. Cria, no âmbito do Ministério Público do Estado do Rio de Janeiro, o Grupo de Atuação Especializada em Segurança Pública (GAESP). O PROCU...\n",
      "\n",
      "Link : http://www.mprj.mp.br/documents/20184/1930598/resolucao_2407.pdf\n",
      "Titulo: RESOLUÇÃO GPGJ nº 2.021 DE 30 DE DEZEMBRO DE 2015\n",
      "Texto: RESOLUÇÃO GPGJ nº 2.021 DE 30 DE DEZEMBRO DE 2015. Cria, no âmbito do Ministério Público do Estado do Rio de Janeiro, o Grupo de Atuação Especializada em Segurança Pública (GAESP). O PROCU...\n",
      "\n",
      "Link : http://www.mprj.mp.br/documents/20184/1930598/resolucao_2406.pdf\n",
      "Titulo: RESOLUÇÃO GPGJ nº 2.021 DE 30 DE DEZEMBRO DE 2015\n",
      "Texto: RESOLUÇÃO GPGJ nº 2.021 DE 30 DE DEZEMBRO DE 2015. Cria, no âmbito do Ministério Público do Estado do Rio de Janeiro, o Grupo de Atuação Especializada em Segurança Pública (GAESP). O PROCU...\n",
      "\n",
      "Link : http://www.mprj.mp.br/documents/20184/1930598/resolucao_2420.pdf\n",
      "Titulo: RESOLUÇÃO GPGJ nº 2.021 DE 30 DE DEZEMBRO DE 2015\n",
      "Texto: RESOLUÇÃO GPGJ nº 2.021 DE 30 DE DEZEMBRO DE 2015. Cria, no âmbito do Ministério Público do Estado do Rio de Janeiro, o Grupo de Atuação Especializada em Segurança Pública (GAESP). O PROCU...\n"
     ]
    }
   ],
   "source": [
    "# ITEM\n",
    "\n",
    "arrITEMS = navegador.find_elements_by_xpath(\"//div[@class='content-card']/a\")\n",
    "\n",
    "#Número de itens na página.\n",
    "print(len(arrITEMS))\n",
    "\n",
    "for item in arrITEMS:\n",
    "    print(\"\\nLink : {}\".format(item.get_attribute(\"href\")))\n",
    "    titulo = item.find_element_by_xpath(\"//h3\").text\n",
    "    print(\"Titulo: {}\".format(item.find_element_by_xpath(\"//h3\").text))\n",
    "    texto = item.find_element_by_xpath(\"//div[@class='span-res-busca']\").text\n",
    "    print(\"Texto: {}\".format(item.find_element_by_xpath(\"//div[@class='span-res-busca']\").text))\n",
    "    \n",
    "\n",
    "#xpath(\"//a[@class='linkIcone']//p[text()='Planilha DInâmica']\").Click()"
   ]
  },
  {
   "cell_type": "code",
   "execution_count": null,
   "metadata": {},
   "outputs": [],
   "source": [
    "# ITEM\n",
    "\n",
    "arrLinks = navegador.find_elements_by_xpath(\"//div[@class='content-card']/a\")\n",
    "arrTitulos = navegador.find_elements_by_xpath(\"//div[@class='content-card']/a/div/div/h3\")\n",
    "arrTextos = navegador.find_elements_by_xpath(\"//div[@class='content-card']/a/div/div/div\")\n",
    "\n",
    "#Número de itens na página.\n",
    "print(len(arrLinks))\n",
    "print(len(arrTitulos))\n",
    "print(len(arrTextos))\n",
    "\n",
    "uniao = [arrLinks, arrTitulos, arrTextos]\n",
    "\n",
    "arrITEMS = pd.DataFrame(data=uniao, index=[\"arrLinks\", \"arrTitulos\", \"arrTextos\"]).transpose()\n",
    "arrITEMS.head()\n",
    "print(arrITEMS[\"arrLinks\"][0])\n",
    "for item in arrITEMS:\n",
    "    print(\"\\nLink : {}\".format(item[0].get_attribute(\"href\")))\n",
    "    #print(\"\\Titulo : {}\".format(item[1].text))\n",
    "    #print(\"\\Texto : {}\".format(item[2].text))\n",
    "    \n",
    "    \n",
    "#    titulo = item.find_element_by_xpath(\"//h3\").text\n",
    "#    print(\"Titulo: {}\".format(item.find_element_by_xpath(\"//h3\").text))\n",
    "#    texto = item.find_element_by_xpath(\"//div[@class='span-res-busca']\").text\n",
    "#    print(\"Texto: {}\".format(item.find_element_by_xpath(\"//div[@class='span-res-busca']\").text))\n",
    "    \n",
    "\n",
    "#xpath(\"//a[@class='linkIcone']//p[text()='Planilha DInâmica']\").Click()"
   ]
  },
  {
   "cell_type": "code",
   "execution_count": 164,
   "metadata": {},
   "outputs": [
    {
     "name": "stdout",
     "output_type": "stream",
     "text": [
      "15\n",
      "15\n",
      "15\n",
      "<selenium.webdriver.firefox.webelement.FirefoxWebElement (session=\"f34a0d4c-0795-4fc6-b2ab-663ff8c015df\", element=\"67844f7b-bfc9-41b5-a78f-a4916cb431a5\")>\n"
     ]
    },
    {
     "ename": "AttributeError",
     "evalue": "'str' object has no attribute 'get_attribute'",
     "output_type": "error",
     "traceback": [
      "\u001b[1;31m---------------------------------------------------------------------------\u001b[0m",
      "\u001b[1;31mAttributeError\u001b[0m                            Traceback (most recent call last)",
      "\u001b[1;32m<ipython-input-164-27e3fefca33d>\u001b[0m in \u001b[0;36m<module>\u001b[1;34m\u001b[0m\n\u001b[0;32m     16\u001b[0m \u001b[0mprint\u001b[0m\u001b[1;33m(\u001b[0m\u001b[0marrITEMS\u001b[0m\u001b[1;33m[\u001b[0m\u001b[1;34m\"arrLinks\"\u001b[0m\u001b[1;33m]\u001b[0m\u001b[1;33m[\u001b[0m\u001b[1;36m0\u001b[0m\u001b[1;33m]\u001b[0m\u001b[1;33m)\u001b[0m\u001b[1;33m\u001b[0m\u001b[1;33m\u001b[0m\u001b[0m\n\u001b[0;32m     17\u001b[0m \u001b[1;32mfor\u001b[0m \u001b[0mitem\u001b[0m \u001b[1;32min\u001b[0m \u001b[0marrITEMS\u001b[0m\u001b[1;33m:\u001b[0m\u001b[1;33m\u001b[0m\u001b[1;33m\u001b[0m\u001b[0m\n\u001b[1;32m---> 18\u001b[1;33m     \u001b[0mprint\u001b[0m\u001b[1;33m(\u001b[0m\u001b[1;34m\"\\nLink : {}\"\u001b[0m\u001b[1;33m.\u001b[0m\u001b[0mformat\u001b[0m\u001b[1;33m(\u001b[0m\u001b[0mitem\u001b[0m\u001b[1;33m[\u001b[0m\u001b[1;36m0\u001b[0m\u001b[1;33m]\u001b[0m\u001b[1;33m.\u001b[0m\u001b[0mget_attribute\u001b[0m\u001b[1;33m(\u001b[0m\u001b[1;34m\"href\"\u001b[0m\u001b[1;33m)\u001b[0m\u001b[1;33m)\u001b[0m\u001b[1;33m)\u001b[0m\u001b[1;33m\u001b[0m\u001b[1;33m\u001b[0m\u001b[0m\n\u001b[0m\u001b[0;32m     19\u001b[0m     \u001b[1;31m#print(\"\\Titulo : {}\".format(item[1].text))\u001b[0m\u001b[1;33m\u001b[0m\u001b[1;33m\u001b[0m\u001b[1;33m\u001b[0m\u001b[0m\n\u001b[0;32m     20\u001b[0m     \u001b[1;31m#print(\"\\Texto : {}\".format(item[2].text))\u001b[0m\u001b[1;33m\u001b[0m\u001b[1;33m\u001b[0m\u001b[1;33m\u001b[0m\u001b[0m\n",
      "\u001b[1;31mAttributeError\u001b[0m: 'str' object has no attribute 'get_attribute'"
     ]
    }
   ],
   "source": [
    "# ITEM\n",
    "\n",
    "arrLinks = navegador.find_elements_by_xpath(\"//div[@class='content-card']/a\")\n",
    "arrTitulos = navegador.find_elements_by_xpath(\"//div[@class='content-card']/a/div/div/h3\")\n",
    "arrTextos = navegador.find_elements_by_xpath(\"//div[@class='content-card']/a/div/div/div\")\n",
    "\n",
    "#Número de itens na página.\n",
    "print(len(arrLinks))\n",
    "print(len(arrTitulos))\n",
    "print(len(arrTextos))\n",
    "\n",
    "uniao = [arrLinks, arrTitulos, arrTextos]\n",
    "\n",
    "arrITEMS = pd.DataFrame(data=uniao, index=[\"arrLinks\", \"arrTitulos\", \"arrTextos\"]).transpose()\n",
    "arrITEMS.head()\n",
    "print(arrITEMS[\"arrLinks\"][0])\n",
    "for item in arrITEMS:\n",
    "    print(\"\\nLink : {}\".format(item[0].get_attribute(\"href\")))\n",
    "    #print(\"\\Titulo : {}\".format(item[1].text))\n",
    "    #print(\"\\Texto : {}\".format(item[2].text))\n",
    "    \n",
    "    \n",
    "#    titulo = item.find_element_by_xpath(\"//h3\").text\n",
    "#    print(\"Titulo: {}\".format(item.find_element_by_xpath(\"//h3\").text))\n",
    "#    texto = item.find_element_by_xpath(\"//div[@class='span-res-busca']\").text\n",
    "#    print(\"Texto: {}\".format(item.find_element_by_xpath(\"//div[@class='span-res-busca']\").text))\n",
    "    \n",
    "\n",
    "#xpath(\"//a[@class='linkIcone']//p[text()='Planilha DInâmica']\").Click()"
   ]
  },
  {
   "cell_type": "code",
   "execution_count": null,
   "metadata": {},
   "outputs": [],
   "source": [
    "# ITEM\n",
    "\n",
    "arrITEMS = navegador.find_element_by_xpath(\"//div[@class='content-card']\")\n",
    "\n",
    "#Número de itens na página.\n",
    "#print(len(arrITEMS))\n",
    "\n",
    "#for item in arrITEMS:\n",
    "#    print(\"\\nLink : {}\".format(item.get_attribute(\"href\")))\n",
    "#    titulo = item.find_element_by_xpath(\"//h3\").text\n",
    "#    print(\"Titulo: {}\".format(item.find_element_by_xpath(\"//h3\").text))\n",
    "#    texto = item.find_element_by_xpath(\"//div[@class='span-res-busca']\").text\n",
    "#    print(\"Texto: {}\".format(item.find_element_by_xpath(\"//div[@class='span-res-busca']\").text))\n",
    "    \n",
    "\n",
    "Link = arrITEMS.find_elements_by_xpath(\"//a\").get_attribute(\"href\")\n",
    "print(\"\\nLink : {}\".format(arrITEMS[0].get_attribute(\"href\")))\n",
    "titulo = arrITEMS.find_elements_by_xpath(\"//h3\").text\n",
    "print(\"Titulo: {}\".format(titulo[0].find_element_by_xpath(\"//h3\").text))\n",
    "texto = arrITEMS.find_elements_by_xpath(\"//div[@class='span-res-busca']\").text\n",
    "print(\"Texto: {}\".format(texto[0].find_element_by_xpath(\"//div[@class='span-res-busca']\").text))\n",
    "print(\"------------------------------\")\n",
    "        \n",
    "\n",
    "#xpath(\"//a[@class='linkIcone']//p[text()='Planilha DInâmica']\").Click()"
   ]
  },
  {
   "cell_type": "code",
   "execution_count": 191,
   "metadata": {},
   "outputs": [],
   "source": [
    "\n",
    "arrLinks = navegador.find_elements_by_xpath(\"//div[@class='content-card']/a\")\n",
    "arrTitulos = navegador.find_elements_by_xpath(\"//div[@class='content-card']/a/div/div/h3\")\n",
    "arrTextos = navegador.find_elements_by_xpath(\"//div[@class='content-card']/a/div/div/div\")\n",
    "\n",
    "itensPaginaLink = pd.DataFrame(data=arrLinks, columns=[\"ObjetoLink\"])\n",
    "#itensPaginaLink.head()\n",
    "itensPaginaLink[\"Link1\"] = itensPaginaLink.applymap(lambda x: x.get_attribute(\"href\"))\n"
   ]
  },
  {
   "cell_type": "code",
   "execution_count": 194,
   "metadata": {},
   "outputs": [
    {
     "data": {
      "text/html": [
       "<div>\n",
       "<style scoped>\n",
       "    .dataframe tbody tr th:only-of-type {\n",
       "        vertical-align: middle;\n",
       "    }\n",
       "\n",
       "    .dataframe tbody tr th {\n",
       "        vertical-align: top;\n",
       "    }\n",
       "\n",
       "    .dataframe thead th {\n",
       "        text-align: right;\n",
       "    }\n",
       "</style>\n",
       "<table border=\"1\" class=\"dataframe\">\n",
       "  <thead>\n",
       "    <tr style=\"text-align: right;\">\n",
       "      <th></th>\n",
       "      <th>ObjetoTitulo</th>\n",
       "      <th>Titulo1</th>\n",
       "    </tr>\n",
       "  </thead>\n",
       "  <tbody>\n",
       "    <tr>\n",
       "      <th>0</th>\n",
       "      <td>&lt;selenium.webdriver.firefox.webelement.Firefox...</td>\n",
       "      <td>RESOLUÇÃO GPGJ nº 2.021 DE 30 DE DEZEMBRO DE 2015</td>\n",
       "    </tr>\n",
       "    <tr>\n",
       "      <th>1</th>\n",
       "      <td>&lt;selenium.webdriver.firefox.webelement.Firefox...</td>\n",
       "      <td>RESOLUÇÃO GPGJ nº 2.021 DE 30 DE DEZEMBRO DE 2015</td>\n",
       "    </tr>\n",
       "    <tr>\n",
       "      <th>2</th>\n",
       "      <td>&lt;selenium.webdriver.firefox.webelement.Firefox...</td>\n",
       "      <td>RESOLUÇÃO GPGJ nº 2.021 DE 30 DE DEZEMBRO DE 2015</td>\n",
       "    </tr>\n",
       "    <tr>\n",
       "      <th>3</th>\n",
       "      <td>&lt;selenium.webdriver.firefox.webelement.Firefox...</td>\n",
       "      <td>RESOLUÇÃO GPGJ nº 2.021 DE 30 DE DEZEMBRO DE 2015</td>\n",
       "    </tr>\n",
       "    <tr>\n",
       "      <th>4</th>\n",
       "      <td>&lt;selenium.webdriver.firefox.webelement.Firefox...</td>\n",
       "      <td>RESOLUÇÃO GPGJ nº 2.021 DE 30 DE DEZEMBRO DE 2015</td>\n",
       "    </tr>\n",
       "  </tbody>\n",
       "</table>\n",
       "</div>"
      ],
      "text/plain": [
       "                                        ObjetoTitulo  \\\n",
       "0  <selenium.webdriver.firefox.webelement.Firefox...   \n",
       "1  <selenium.webdriver.firefox.webelement.Firefox...   \n",
       "2  <selenium.webdriver.firefox.webelement.Firefox...   \n",
       "3  <selenium.webdriver.firefox.webelement.Firefox...   \n",
       "4  <selenium.webdriver.firefox.webelement.Firefox...   \n",
       "\n",
       "                                             Titulo1  \n",
       "0  RESOLUÇÃO GPGJ nº 2.021 DE 30 DE DEZEMBRO DE 2015  \n",
       "1  RESOLUÇÃO GPGJ nº 2.021 DE 30 DE DEZEMBRO DE 2015  \n",
       "2  RESOLUÇÃO GPGJ nº 2.021 DE 30 DE DEZEMBRO DE 2015  \n",
       "3  RESOLUÇÃO GPGJ nº 2.021 DE 30 DE DEZEMBRO DE 2015  \n",
       "4  RESOLUÇÃO GPGJ nº 2.021 DE 30 DE DEZEMBRO DE 2015  "
      ]
     },
     "execution_count": 194,
     "metadata": {},
     "output_type": "execute_result"
    }
   ],
   "source": [
    "#PAREI AKI\n",
    "\n",
    "itensPaginaTit = pd.DataFrame(data=arrTitulos, columns=[\"ObjetoTitulo\"])\n",
    "itensPaginaTit.head()\n",
    "itensPaginaTit[\"Titulo1\"] = itensPaginaTit.applymap(lambda x: x.find_element_by_xpath(\"//h3\").text)\n",
    "itensPaginaTit.head()\n"
   ]
  },
  {
   "cell_type": "code",
   "execution_count": null,
   "metadata": {},
   "outputs": [],
   "source": []
  }
 ],
 "metadata": {
  "kernelspec": {
   "display_name": "Python 3",
   "language": "python",
   "name": "python3"
  },
  "language_info": {
   "codemirror_mode": {
    "name": "ipython",
    "version": 3
   },
   "file_extension": ".py",
   "mimetype": "text/x-python",
   "name": "python",
   "nbconvert_exporter": "python",
   "pygments_lexer": "ipython3",
   "version": "3.8.5"
  }
 },
 "nbformat": 4,
 "nbformat_minor": 4
}
